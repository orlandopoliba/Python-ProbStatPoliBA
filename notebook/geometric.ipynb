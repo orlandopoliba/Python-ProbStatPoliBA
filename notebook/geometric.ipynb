{
 "cells": [
  {
   "cell_type": "markdown",
   "metadata": {},
   "source": [
    "# Legge geometrica\n",
    "\n",
    "Ricordiamo che se $X \\sim \\mathrm{Geo}(p)$ allora \n",
    "$$\n",
    "\\mathbb{P}(\\{X = k\\}) = (1-p)^{k-1}p \\, .\n",
    "$$"
   ]
  },
  {
   "cell_type": "markdown",
   "metadata": {},
   "source": [
    "Nel seguente grafico si può modificare $p$ e osservare come cambia l'aspetto del grafico della funzione di massa di probabilità di una variabile aleatoria distribuita con legge geometrica."
   ]
  },
  {
   "cell_type": "code",
   "execution_count": null,
   "metadata": {},
   "outputs": [
    {
     "data": {
      "application/vnd.jupyter.widget-view+json": {
       "model_id": "9081b7ab0df04bb6b1dc510936ef5f8d",
       "version_major": 2,
       "version_minor": 0
      },
      "text/plain": [
       "interactive(children=(FloatSlider(value=0.5, description='p', max=0.99, min=0.1), Output()), _dom_classes=('wi…"
      ]
     },
     "metadata": {},
     "output_type": "display_data"
    }
   ],
   "source": [
    "import numpy as np\n",
    "from math import comb\n",
    "import matplotlib.pyplot as plt\n",
    "import ipywidgets as widgets\n",
    "from ipywidgets import interact\n",
    "%matplotlib inline\n",
    "\n",
    "n_max = 10\n",
    "\n",
    "def plot_geometric(p):\n",
    "    x = np.arange(1, n_max+1)\n",
    "    y = np.array([(1-p)**(k-1)*p for k in x])\n",
    "    plt.bar(x, y, color='teal')\n",
    "    plt.xlabel(r'$k$')\n",
    "    plt.ylabel(r'$\\mathbb{P}(\\{X=k\\})$')\n",
    "    plt.title('Distribuzione geometrica')\n",
    "    # set y axis to be between 0 and 1\n",
    "    plt.ylim(0, 1)\n",
    "    plt.show()\n",
    "    \n",
    "_ = interact(plot_geometric, p=widgets.FloatSlider(min=0.1, max=0.99, step=0.1, value=0.5))\n"
   ]
  }
 ],
 "metadata": {
  "kernelspec": {
   "display_name": ".venv",
   "language": "python",
   "name": "python3"
  },
  "language_info": {
   "codemirror_mode": {
    "name": "ipython",
    "version": 3
   },
   "file_extension": ".py",
   "mimetype": "text/x-python",
   "name": "python",
   "nbconvert_exporter": "python",
   "pygments_lexer": "ipython3",
   "version": "3.12.7"
  },
  "orig_nbformat": 4
 },
 "nbformat": 4,
 "nbformat_minor": 2
}
