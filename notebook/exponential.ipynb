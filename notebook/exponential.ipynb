{
 "cells": [
  {
   "cell_type": "markdown",
   "metadata": {},
   "source": [
    "# Legge esponenziale\n",
    "\n",
    "Ricordiamo che se $X \\sim \\mathrm{Exp}(\\lambda)$ allora ha funzione di densità di probabilità\n",
    "$$\n",
    "f(x) = \\begin{cases}\n",
    "\\lambda e^{-\\lambda x} & \\text{se } x > 0 \\\\\n",
    "0 & \\text{altrimenti} \\, .\n",
    "\\end{cases}\n",
    "$$"
   ]
  },
  {
   "cell_type": "markdown",
   "metadata": {},
   "source": [
    "Nel seguente grafico interattivo si può modificare $\\lambda$ e osservare come cambia l'aspetto del grafico della funzione di densità di probabilità di una variabile aleatoria distribuita con legge esponenziale."
   ]
  },
  {
   "cell_type": "code",
   "execution_count": 13,
   "metadata": {},
   "outputs": [
    {
     "data": {
      "application/vnd.jupyter.widget-view+json": {
       "model_id": "926972c783d24f0ba1999b6aba26a173",
       "version_major": 2,
       "version_minor": 0
      },
      "text/plain": [
       "interactive(children=(FloatSlider(value=1.0, description='l', max=5.0, min=0.1, step=0.2), Output()), _dom_cla…"
      ]
     },
     "metadata": {},
     "output_type": "display_data"
    }
   ],
   "source": [
    "import numpy as np\n",
    "from math import comb\n",
    "import matplotlib.pyplot as plt\n",
    "import ipywidgets as widgets\n",
    "from ipywidgets import interact\n",
    "%matplotlib inline\n",
    "\n",
    "def plot_exponential(l=1):\n",
    "    x = np.linspace(0, 10+1,100)\n",
    "    y = l * np.exp(-l * x)\n",
    "    plt.fill_between(x, y, color='teal')\n",
    "    plt.xlabel(r'$x$')\n",
    "    plt.ylabel(r'$f(x)$')\n",
    "    plt.title('Distribuzione esponenziale')\n",
    "    plt.xlim(0, 10)\n",
    "    plt.ylim(0, 2)\n",
    "    plt.show()\n",
    "    \n",
    "_ = interact(plot_exponential, l=widgets.FloatSlider(min=0.1, max=5, step=0.2, value=1))\n"
   ]
  }
 ],
 "metadata": {
  "kernelspec": {
   "display_name": ".venv",
   "language": "python",
   "name": "python3"
  },
  "language_info": {
   "codemirror_mode": {
    "name": "ipython",
    "version": 3
   },
   "file_extension": ".py",
   "mimetype": "text/x-python",
   "name": "python",
   "nbconvert_exporter": "python",
   "pygments_lexer": "ipython3",
   "version": "3.12.7"
  },
  "orig_nbformat": 4
 },
 "nbformat": 4,
 "nbformat_minor": 2
}
