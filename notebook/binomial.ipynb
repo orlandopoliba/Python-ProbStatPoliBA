{
 "cells": [
  {
   "cell_type": "markdown",
   "metadata": {},
   "source": [
    "# Legge binomiale\n",
    "\n",
    "Ricordiamo che se $X \\sim \\mathrm{B}(n,p)$ allora \n",
    "$$\n",
    "\\mathbb{P}(\\{X = k\\}) = \\binom{n}{k} p^k (1-p)^{n-k} \\, .\n",
    "$$"
   ]
  },
  {
   "cell_type": "markdown",
   "metadata": {},
   "source": [
    "Nel seguente grafico si possono modificare $n$ e $p$ e osservare come cambia l'aspetto del grafico della funzione di massa di probabilità di una variabile aleatoria distribuita con legge binomiale."
   ]
  },
  {
   "cell_type": "code",
   "execution_count": null,
   "metadata": {},
   "outputs": [],
   "source": [
    "import numpy as np\n",
    "from math import comb\n",
    "import matplotlib.pyplot as plt\n",
    "import ipywidgets as widgets\n",
    "from ipywidgets import interact\n",
    "%matplotlib inline\n",
    "\n",
    "n_max = 10\n",
    "\n",
    "def plot_binomial(n, p):\n",
    "    x = np.arange(0, n_max+1)\n",
    "    y = np.array([comb(n, k) * p**k * (1-p)**(n-k) for k in x])\n",
    "    plt.bar(x, y)\n",
    "    plt.xlabel(r'$k$')\n",
    "    plt.ylabel(r'$\\mathbb{P}(\\{X=k\\})$')\n",
    "    plt.title('Distribuzione binomiale')\n",
    "    # set y axis to be between 0 and 1\n",
    "    plt.ylim(0, 1)\n",
    "    plt.show()\n",
    "    \n",
    "_ = interact(plot_binomial, n=widgets.IntSlider(min=1, max=n_max, step=1, value=1), p=widgets.FloatSlider(min=0, max=0.99, step=0.1, value=0.5))\n"
   ]
  },
  {
   "cell_type": "code",
   "execution_count": null,
   "metadata": {},
   "outputs": [],
   "source": []
  }
 ],
 "metadata": {
  "kernelspec": {
   "display_name": "Python 3",
   "language": "python",
   "name": "python3"
  },
  "language_info": {
   "codemirror_mode": {
    "name": "ipython",
    "version": 3
   },
   "file_extension": ".py",
   "mimetype": "text/x-python",
   "name": "python",
   "nbconvert_exporter": "python",
   "pygments_lexer": "ipython3",
   "version": "3.13.0"
  },
  "orig_nbformat": 4
 },
 "nbformat": 4,
 "nbformat_minor": 2
}
