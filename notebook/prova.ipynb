{
 "cells": [
  {
   "cell_type": "markdown",
   "metadata": {},
   "source": [
    "# Legge binomiale\n",
    "\n",
    "Ricordiamo che se $X \\sim \\mathrm{B}(n,p)$ allora \n",
    "$$\n",
    "\\mathbb{P}(\\{X = k\\}) = \\binom{n}{k} p^k (1-p)^{n-k} \\, .\n",
    "$$"
   ]
  },
  {
   "cell_type": "markdown",
   "metadata": {},
   "source": [
    "Possiamo visualizzare la distribuzione binomiale con un diagramma a barre."
   ]
  },
  {
   "cell_type": "code",
   "execution_count": 41,
   "metadata": {},
   "outputs": [
    {
     "data": {
      "application/vnd.jupyter.widget-view+json": {
       "model_id": "1aee98a22f614797a4ba1fc158603f2f",
       "version_major": 2,
       "version_minor": 0
      },
      "text/plain": [
       "interactive(children=(IntSlider(value=1, description='n', max=10, min=1), FloatSlider(value=0.5, description='…"
      ]
     },
     "metadata": {},
     "output_type": "display_data"
    }
   ],
   "source": [
    "import numpy as np\n",
    "from math import comb\n",
    "import matplotlib.pyplot as plt\n",
    "import ipywidgets as widgets\n",
    "from ipywidgets import interact\n",
    "%matplotlib inline\n",
    "\n",
    "n_max = 10\n",
    "\n",
    "def plot_binomial(n, p):\n",
    "    x = np.arange(0, n_max+1)\n",
    "    y = np.array([comb(n, k) * p**k * (1-p)**(n-k) for k in x])\n",
    "    plt.bar(x, y)\n",
    "    plt.xlabel(r'$k$')\n",
    "    plt.ylabel(r'$\\mathbb{P}(\\{X=k\\})$')\n",
    "    plt.title('Distribuzione binomiale')\n",
    "    # set y axis to be between 0 and 1\n",
    "    plt.ylim(0, 1)\n",
    "    plt.show()\n",
    "    \n",
    "_ = interact(plot_binomial, n=widgets.IntSlider(min=1, max=n_max, step=1, value=1), p=widgets.FloatSlider(min=0, max=0.99, step=0.1, value=0.5))"
   ]
  },
  {
   "cell_type": "code",
   "execution_count": null,
   "metadata": {},
   "outputs": [],
   "source": []
  }
 ],
 "metadata": {
  "kernelspec": {
   "display_name": ".venv",
   "language": "python",
   "name": "python3"
  },
  "language_info": {
   "codemirror_mode": {
    "name": "ipython",
    "version": 3
   },
   "file_extension": ".py",
   "mimetype": "text/x-python",
   "name": "python",
   "nbconvert_exporter": "python",
   "pygments_lexer": "ipython3",
   "version": "3.12.7"
  }
 },
 "nbformat": 4,
 "nbformat_minor": 2
}
